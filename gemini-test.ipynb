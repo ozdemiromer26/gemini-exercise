{
 "cells": [
  {
   "cell_type": "code",
   "execution_count": 17,
   "metadata": {},
   "outputs": [
    {
     "name": "stdout",
     "output_type": "stream",
     "text": [
      "models/gemini-1.0-pro\n",
      "models/gemini-1.0-pro-001\n",
      "models/gemini-1.0-pro-latest\n",
      "models/gemini-1.0-pro-vision-latest\n",
      "models/gemini-1.5-pro-latest\n",
      "models/gemini-pro\n",
      "models/gemini-pro-vision\n"
     ]
    }
   ],
   "source": [
    "import google.generativeai as genai\n",
    "from google.generativeai.types import HarmCategory, HarmBlockThreshold\n",
    "import PIL.Image\n",
    "from IPython.display import Image\n",
    "from IPython.core.display import HTML\n",
    "\n",
    "genai.configure(api_key=\"GOOGLE-API-KEY\") #GÜVENLİK İÇİN APİ-KEYİ BÖYLE AÇIKÇA TANIMLAMAYIN!!!\n",
    "\n",
    "for m in genai.list_models():\n",
    "  if 'generateContent' in m.supported_generation_methods:\n",
    "    print(m.name)\n",
    "\n",
    "model = genai.GenerativeModel('gemini-pro')\n",
    "model_v = genai.GenerativeModel('gemini-pro-vision')\n",
    "\n",
    "bypass_safety = {HarmCategory.HARM_CATEGORY_HATE_SPEECH: HarmBlockThreshold.BLOCK_NONE, HarmCategory.HARM_CATEGORY_HARASSMENT: HarmBlockThreshold.BLOCK_NONE, HarmCategory.HARM_CATEGORY_SEXUALLY_EXPLICIT: HarmBlockThreshold.BLOCK_NONE, HarmCategory.HARM_CATEGORY_DANGEROUS_CONTENT: HarmBlockThreshold.BLOCK_NONE}"
   ]
  },
  {
   "cell_type": "code",
   "execution_count": 26,
   "metadata": {},
   "outputs": [
    {
     "name": "stdout",
     "output_type": "stream",
     "text": [
      "1. ci mail -> 10\n",
      "2. ci mail -> 5\n",
      "3. ci mail -> 1\n"
     ]
    }
   ],
   "source": [
    "number_emails = int(input(\"Kaç tane mail gelecek?: \"))\n",
    "emails = []\n",
    "\n",
    "for i in range(number_emails):\n",
    "  emails.append(input(\"Mailinizi girin: \"))\n",
    "\n",
    "emails_string = \"\"\n",
    "for i in range(number_emails):\n",
    "  emails_string += emails[i] + \"\\n\\n\"\n",
    "\n",
    "arguments = \"Sana \" + str(number_emails) + \" adet türkçe mail gönderildi. Mailleri aşağıda bulabilirsin. Hepsini oku ve bu e postaların ne kadar acil olduğunu aciliyet seviyesini 0=acil değil, 10=en acil olacak şekilde belirle ve her satırda sadece rakam olarak yaz.\\n\\n\"\n",
    "\n",
    "\n",
    "response = model.generate_content(arguments + emails_string)\n",
    "aciliyet = []\n",
    "\n",
    "for i in range(number_emails):\n",
    "    aciliyet.append(int(response.text.split(\"\\n\")[i]))\n",
    "    print(str(i+1) + \". ci mail -> \" + str(aciliyet[i]))\n",
    "\n"
   ]
  },
  {
   "cell_type": "code",
   "execution_count": 32,
   "metadata": {},
   "outputs": [
    {
     "name": "stdout",
     "output_type": "stream",
     "text": [
      " yeşil,araba\n"
     ]
    }
   ],
   "source": [
    "image_1 = Image(\"1.jpg\")\n",
    "image_2 = Image(\"2.jpg\")\n",
    "image_3 = Image(\"3.jpg\")\n",
    "image_4 = Image(\"4.jpg\")\n",
    "\n",
    "types = [\"araba\",\"elma\"]\n",
    "colors = [\"yeşil\",\"kırmızı\",\"mavi\"]\n",
    "\n",
    "s_types = \"\"\n",
    "s_colors = \"\"\n",
    "for i in range(len(types)):\n",
    "    s_types += types[i] + \",\"\n",
    "for i in range(len(colors)):\n",
    "    s_colors += colors[i] + \",\"\n",
    "\n",
    "arguments = \"Sana eşya türlerinin olduğu virgülle ayrılmış bir liste ve renklerin olduğu liste verildi. onları dikkatle oku ve sonra verilen resimdeki nesnenin bu listeden hangi tür ve renkte olduğunu \\\"renk,tür\\\" olarak listedeki yazım hatalarını düzeltmeden yaz. \\n \\n\"\n",
    "\n",
    "response = model_v.generate_content([arguments + s_types + \"\\n\\n\" + s_colors,image_4])\n",
    "print(response.text)\n"
   ]
  }
 ],
 "metadata": {
  "kernelspec": {
   "display_name": "Python 3",
   "language": "python",
   "name": "python3"
  },
  "language_info": {
   "codemirror_mode": {
    "name": "ipython",
    "version": 3
   },
   "file_extension": ".py",
   "mimetype": "text/x-python",
   "name": "python",
   "nbconvert_exporter": "python",
   "pygments_lexer": "ipython3",
   "version": "3.12.3"
  }
 },
 "nbformat": 4,
 "nbformat_minor": 2
}
